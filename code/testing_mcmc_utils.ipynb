{
 "cells": [
  {
   "cell_type": "markdown",
   "id": "27aa4ad4",
   "metadata": {},
   "source": [
    "# Testing of the mcmc_utils Module"
   ]
  },
  {
   "cell_type": "code",
   "execution_count": 1,
   "id": "70f7695c",
   "metadata": {},
   "outputs": [],
   "source": [
    "from hit_and_run_uniform_slice_sampling import parallel_hruss\n",
    "import mcmc_utils as mcu"
   ]
  },
  {
   "cell_type": "code",
   "execution_count": 2,
   "id": "a5d0efd9",
   "metadata": {},
   "outputs": [],
   "source": [
    "import numpy as np\n",
    "import numpy.linalg as alg\n",
    "import numpy.random as rnd"
   ]
  },
  {
   "cell_type": "code",
   "execution_count": 3,
   "id": "c30155f9",
   "metadata": {},
   "outputs": [],
   "source": [
    "verbose = False # basically whether to print each function's docstring before testing it"
   ]
  },
  {
   "cell_type": "markdown",
   "id": "11283cb6",
   "metadata": {},
   "source": [
    "## Generate Samples and TDE to Analyze"
   ]
  },
  {
   "cell_type": "code",
   "execution_count": 4,
   "id": "415ccaf7",
   "metadata": {},
   "outputs": [],
   "source": [
    "d = 17\n",
    "def log_density(x):\n",
    "    return -alg.norm(x)"
   ]
  },
  {
   "cell_type": "code",
   "execution_count": 5,
   "id": "c0a32146",
   "metadata": {},
   "outputs": [],
   "source": [
    "n_its_1 = int(1e4)\n",
    "n_chains_1 = 10\n",
    "w_1 = d\n",
    "x_0s_1 = rnd.normal(size=(n_chains_1,d))"
   ]
  },
  {
   "cell_type": "code",
   "execution_count": 6,
   "id": "7cf17138",
   "metadata": {
    "scrolled": true
   },
   "outputs": [
    {
     "name": "stdout",
     "output_type": "stream",
     "text": [
      "Checking validity of given arguments...\n",
      "Preparing for parallel sampling...\n",
      "Starting parallel sampling...\n"
     ]
    },
    {
     "name": "stderr",
     "output_type": "stream",
     "text": [
      "100%|██████████████████████████████████████████████████████████████████████████████████████████████████████████████████████████████████████████████████████████████████████████████████| 10000/10000 [00:00<00:00, 27568.30it/s]\n"
     ]
    },
    {
     "name": "stdout",
     "output_type": "stream",
     "text": [
      "Processing returns and terminating...\n"
     ]
    }
   ],
   "source": [
    "samples_1, tde_1 = parallel_hruss(log_density, n_chains_1, n_its_1, x_0s_1, w_1)"
   ]
  },
  {
   "cell_type": "code",
   "execution_count": 7,
   "id": "8f68f4ba",
   "metadata": {},
   "outputs": [
    {
     "data": {
      "text/plain": [
       "(10001, 10, 17)"
      ]
     },
     "execution_count": 7,
     "metadata": {},
     "output_type": "execute_result"
    }
   ],
   "source": [
    "samples_1.shape"
   ]
  },
  {
   "cell_type": "code",
   "execution_count": 8,
   "id": "12bc5c1f",
   "metadata": {},
   "outputs": [],
   "source": [
    "n_its_2 = int(1.1e4)\n",
    "n_chains_2 = 9\n",
    "w_2 = d\n",
    "x_0s_2 = rnd.normal(size=(n_chains_2,d))"
   ]
  },
  {
   "cell_type": "code",
   "execution_count": 9,
   "id": "103c6cbc",
   "metadata": {},
   "outputs": [
    {
     "name": "stdout",
     "output_type": "stream",
     "text": [
      "Checking validity of given arguments...\n",
      "Preparing for parallel sampling...\n",
      "Starting parallel sampling...\n"
     ]
    },
    {
     "name": "stderr",
     "output_type": "stream",
     "text": [
      "100%|██████████████████████████████████████████████████████████████████████████████████████████████████████████████████████████████████████████████████████████████████████████████████| 11000/11000 [00:00<00:00, 19571.85it/s]\n"
     ]
    },
    {
     "name": "stdout",
     "output_type": "stream",
     "text": [
      "Processing returns and terminating...\n"
     ]
    }
   ],
   "source": [
    "samples_2, tde_2 = parallel_hruss(log_density, n_chains_2, n_its_2, x_0s_2, w_2)"
   ]
  },
  {
   "cell_type": "code",
   "execution_count": 10,
   "id": "c7be590b",
   "metadata": {},
   "outputs": [
    {
     "data": {
      "text/plain": [
       "(11001, 9, 17)"
      ]
     },
     "execution_count": 10,
     "metadata": {},
     "output_type": "execute_result"
    }
   ],
   "source": [
    "samples_2.shape"
   ]
  },
  {
   "cell_type": "code",
   "execution_count": 11,
   "id": "44384118",
   "metadata": {},
   "outputs": [],
   "source": [
    "samples = [samples_1, samples_2]\n",
    "tde = [tde_1, tde_2]\n",
    "samples_c0 = [sams[:,0] for sams in samples]"
   ]
  },
  {
   "cell_type": "markdown",
   "id": "e0a7be24",
   "metadata": {},
   "source": [
    "## Test the mcmc_utils Module by Analyzing the Samples and TDE"
   ]
  },
  {
   "cell_type": "code",
   "execution_count": 12,
   "id": "c789614a",
   "metadata": {},
   "outputs": [],
   "source": [
    "if verbose:\n",
    "    print(mcu.__doc__)"
   ]
  },
  {
   "cell_type": "markdown",
   "id": "ce7a3f45",
   "metadata": {},
   "source": [
    "### Computing Radii"
   ]
  },
  {
   "cell_type": "code",
   "execution_count": 13,
   "id": "b4c36531",
   "metadata": {},
   "outputs": [],
   "source": [
    "if verbose:\n",
    "    print(mcu.get_radii.__doc__)"
   ]
  },
  {
   "cell_type": "code",
   "execution_count": 14,
   "id": "a0c5a32f",
   "metadata": {},
   "outputs": [
    {
     "name": "stdout",
     "output_type": "stream",
     "text": [
      "(10001,)\n"
     ]
    },
    {
     "data": {
      "text/plain": [
       "array([ 3.30121271,  2.86542096,  2.81491049, ..., 17.02614894,\n",
       "       17.15759545, 17.1329186 ])"
      ]
     },
     "execution_count": 14,
     "metadata": {},
     "output_type": "execute_result"
    }
   ],
   "source": [
    "radii_1_c0 = mcu.get_radii(samples_1[:,0])\n",
    "print(radii_1_c0.shape)\n",
    "radii_1_c0"
   ]
  },
  {
   "cell_type": "code",
   "execution_count": 15,
   "id": "474b290a",
   "metadata": {},
   "outputs": [
    {
     "name": "stdout",
     "output_type": "stream",
     "text": [
      "(10001, 10)\n"
     ]
    },
    {
     "data": {
      "text/plain": [
       "array([[ 3.30121271,  3.31354475,  2.88198154, ...,  3.39510039,\n",
       "         3.77621428,  3.46710052],\n",
       "       [ 2.86542096,  3.57659554,  3.12267034, ...,  3.40667909,\n",
       "         3.60061084,  4.05466369],\n",
       "       [ 2.81491049,  3.83035753,  3.17493694, ...,  3.77977779,\n",
       "         3.60146757,  3.32130988],\n",
       "       ...,\n",
       "       [17.02614894, 25.14758226, 24.85021967, ..., 25.23843203,\n",
       "        17.65916894, 15.31633824],\n",
       "       [17.15759545, 24.6451341 , 23.63718634, ..., 25.52379062,\n",
       "        17.67131561, 14.76506936],\n",
       "       [17.1329186 , 23.69560645, 23.47306839, ..., 24.57572784,\n",
       "        18.19433235, 14.81188799]])"
      ]
     },
     "execution_count": 15,
     "metadata": {},
     "output_type": "execute_result"
    }
   ],
   "source": [
    "radii_1 = mcu.get_radii(samples_1)\n",
    "print(radii_1.shape)\n",
    "radii_1"
   ]
  },
  {
   "cell_type": "code",
   "execution_count": 16,
   "id": "4fceab57",
   "metadata": {},
   "outputs": [],
   "source": [
    "if verbose:\n",
    "    print(mcu.get_radii_list.__doc__)"
   ]
  },
  {
   "cell_type": "code",
   "execution_count": 17,
   "id": "c8686d39",
   "metadata": {},
   "outputs": [
    {
     "name": "stdout",
     "output_type": "stream",
     "text": [
      "(10001,)\n",
      "(11001,)\n"
     ]
    },
    {
     "data": {
      "text/plain": [
       "[array([ 3.30121271,  2.86542096,  2.81491049, ..., 17.02614894,\n",
       "        17.15759545, 17.1329186 ]),\n",
       " array([ 3.50635743,  3.51050286,  4.09384405, ..., 24.8654013 ,\n",
       "        24.39023075, 24.57737426])]"
      ]
     },
     "execution_count": 17,
     "metadata": {},
     "output_type": "execute_result"
    }
   ],
   "source": [
    "radii_c0 = mcu.get_radii_list(samples_c0)\n",
    "for rs in radii_c0:\n",
    "    print(rs.shape)\n",
    "radii_c0"
   ]
  },
  {
   "cell_type": "code",
   "execution_count": 18,
   "id": "430f4817",
   "metadata": {},
   "outputs": [
    {
     "name": "stdout",
     "output_type": "stream",
     "text": [
      "(10001, 10)\n",
      "(11001, 9)\n"
     ]
    },
    {
     "data": {
      "text/plain": [
       "[array([[ 3.30121271,  3.31354475,  2.88198154, ...,  3.39510039,\n",
       "          3.77621428,  3.46710052],\n",
       "        [ 2.86542096,  3.57659554,  3.12267034, ...,  3.40667909,\n",
       "          3.60061084,  4.05466369],\n",
       "        [ 2.81491049,  3.83035753,  3.17493694, ...,  3.77977779,\n",
       "          3.60146757,  3.32130988],\n",
       "        ...,\n",
       "        [17.02614894, 25.14758226, 24.85021967, ..., 25.23843203,\n",
       "         17.65916894, 15.31633824],\n",
       "        [17.15759545, 24.6451341 , 23.63718634, ..., 25.52379062,\n",
       "         17.67131561, 14.76506936],\n",
       "        [17.1329186 , 23.69560645, 23.47306839, ..., 24.57572784,\n",
       "         18.19433235, 14.81188799]]),\n",
       " array([[ 3.50635743,  3.41509987,  4.07370203, ...,  3.4981584 ,\n",
       "          4.83075335,  5.23559849],\n",
       "        [ 3.51050286,  3.37980155,  5.10910314, ...,  3.64238259,\n",
       "          4.75293297,  5.42249581],\n",
       "        [ 4.09384405,  3.4934531 ,  5.44056774, ...,  3.64300864,\n",
       "          4.79549716,  5.4347818 ],\n",
       "        ...,\n",
       "        [24.8654013 , 15.2325726 , 21.99019326, ..., 16.2332446 ,\n",
       "         14.78381231, 13.94133555],\n",
       "        [24.39023075, 14.80358133, 23.41961355, ..., 16.37062716,\n",
       "         16.4424982 , 14.05726225],\n",
       "        [24.57737426, 16.19418913, 23.41350286, ..., 16.65223244,\n",
       "         16.46781477, 14.04232639]])]"
      ]
     },
     "execution_count": 18,
     "metadata": {},
     "output_type": "execute_result"
    }
   ],
   "source": [
    "radii = mcu.get_radii_list(samples)\n",
    "for rs in radii:\n",
    "    print(rs.shape)\n",
    "radii"
   ]
  },
  {
   "cell_type": "markdown",
   "id": "1af1ae1d",
   "metadata": {},
   "source": [
    "### Computing Log Radii"
   ]
  },
  {
   "cell_type": "code",
   "execution_count": 19,
   "id": "fa3ae5b3",
   "metadata": {},
   "outputs": [],
   "source": [
    "if verbose:\n",
    "    print(mcu.get_log_radii.__doc__)"
   ]
  },
  {
   "cell_type": "code",
   "execution_count": 20,
   "id": "20003f03",
   "metadata": {},
   "outputs": [
    {
     "name": "stdout",
     "output_type": "stream",
     "text": [
      "(10001,)\n"
     ]
    },
    {
     "data": {
      "text/plain": [
       "array([1.19428989, 1.05271527, 1.03493046, ..., 2.83475034, 2.84244096,\n",
       "       2.84100168])"
      ]
     },
     "execution_count": 20,
     "metadata": {},
     "output_type": "execute_result"
    }
   ],
   "source": [
    "log_radii_1_c0 = mcu.get_log_radii(samples_1[:,0])\n",
    "print(log_radii_1_c0.shape)\n",
    "log_radii_1_c0"
   ]
  },
  {
   "cell_type": "code",
   "execution_count": 21,
   "id": "9711e1de",
   "metadata": {},
   "outputs": [
    {
     "name": "stdout",
     "output_type": "stream",
     "text": [
      "(10001, 10)\n"
     ]
    },
    {
     "data": {
      "text/plain": [
       "array([[1.19428989, 1.19801854, 1.05847809, ..., 1.22233333, 1.32872199,\n",
       "        1.24331866],\n",
       "       [1.05271527, 1.27441138, 1.13868851, ..., 1.22573794, 1.28110351,\n",
       "        1.39986775],\n",
       "       [1.03493046, 1.34295815, 1.15528777, ..., 1.32966522, 1.28134142,\n",
       "        1.20035925],\n",
       "       ...,\n",
       "       [2.83475034, 3.22476176, 3.21286659, ..., 3.22836791, 2.87125514,\n",
       "        2.72892012],\n",
       "       [2.84244096, 3.20457948, 3.16282116, ..., 3.23961098, 2.87194274,\n",
       "        2.69226421],\n",
       "       [2.84100168, 3.16528965, 3.15585374, ..., 3.20175928, 2.90111014,\n",
       "        2.6954301 ]])"
      ]
     },
     "execution_count": 21,
     "metadata": {},
     "output_type": "execute_result"
    }
   ],
   "source": [
    "log_radii_1 = mcu.get_log_radii(samples_1)\n",
    "print(log_radii_1.shape)\n",
    "log_radii_1"
   ]
  },
  {
   "cell_type": "code",
   "execution_count": 22,
   "id": "69501840",
   "metadata": {},
   "outputs": [],
   "source": [
    "if verbose:\n",
    "    print(mcu.get_log_radii_list.__doc__)"
   ]
  },
  {
   "cell_type": "code",
   "execution_count": 23,
   "id": "e1fea069",
   "metadata": {},
   "outputs": [
    {
     "name": "stdout",
     "output_type": "stream",
     "text": [
      "(10001,)\n",
      "(11001,)\n"
     ]
    },
    {
     "data": {
      "text/plain": [
       "[array([1.19428989, 1.05271527, 1.03493046, ..., 2.83475034, 2.84244096,\n",
       "        2.84100168]),\n",
       " array([1.25457773, 1.25575929, 1.40948439, ..., 3.21347733, 3.19418267,\n",
       "        3.20182627])]"
      ]
     },
     "execution_count": 23,
     "metadata": {},
     "output_type": "execute_result"
    }
   ],
   "source": [
    "log_radii_c0 = mcu.get_log_radii_list(samples_c0)\n",
    "for rs in log_radii_c0:\n",
    "    print(rs.shape)\n",
    "log_radii_c0"
   ]
  },
  {
   "cell_type": "code",
   "execution_count": 24,
   "id": "ff0b404a",
   "metadata": {},
   "outputs": [
    {
     "name": "stdout",
     "output_type": "stream",
     "text": [
      "(10001, 10)\n",
      "(11001, 9)\n"
     ]
    },
    {
     "data": {
      "text/plain": [
       "[array([[1.19428989, 1.19801854, 1.05847809, ..., 1.22233333, 1.32872199,\n",
       "         1.24331866],\n",
       "        [1.05271527, 1.27441138, 1.13868851, ..., 1.22573794, 1.28110351,\n",
       "         1.39986775],\n",
       "        [1.03493046, 1.34295815, 1.15528777, ..., 1.32966522, 1.28134142,\n",
       "         1.20035925],\n",
       "        ...,\n",
       "        [2.83475034, 3.22476176, 3.21286659, ..., 3.22836791, 2.87125514,\n",
       "         2.72892012],\n",
       "        [2.84244096, 3.20457948, 3.16282116, ..., 3.23961098, 2.87194274,\n",
       "         2.69226421],\n",
       "        [2.84100168, 3.16528965, 3.15585374, ..., 3.20175928, 2.90111014,\n",
       "         2.6954301 ]]),\n",
       " array([[1.25457773, 1.22820674, 1.40455218, ..., 1.25223666, 1.57500243,\n",
       "         1.65548116],\n",
       "        [1.25575929, 1.21781699, 1.63102388, ..., 1.29263803, 1.55876189,\n",
       "         1.69055619],\n",
       "        [1.40948439, 1.25089067, 1.69388342, ..., 1.29280989, 1.56767739,\n",
       "         1.69281937],\n",
       "        ...,\n",
       "        [3.21347733, 2.72343607, 3.09059659, ..., 2.78706128, 2.69353282,\n",
       "         2.63485821],\n",
       "        [3.19418267, 2.69486913, 3.15357386, ..., 2.7954887 , 2.79986934,\n",
       "         2.64313915],\n",
       "        [3.20182627, 2.78465248, 3.1533129 , ..., 2.81254429, 2.80140786,\n",
       "         2.64207608]])]"
      ]
     },
     "execution_count": 24,
     "metadata": {},
     "output_type": "execute_result"
    }
   ],
   "source": [
    "log_radii = mcu.get_log_radii_list(samples)\n",
    "for rs in log_radii:\n",
    "    print(rs.shape)\n",
    "log_radii"
   ]
  },
  {
   "cell_type": "markdown",
   "id": "0a48a350",
   "metadata": {},
   "source": [
    "### Computing Step Sizes"
   ]
  },
  {
   "cell_type": "code",
   "execution_count": 25,
   "id": "2710afba",
   "metadata": {},
   "outputs": [],
   "source": [
    "if verbose:\n",
    "    print(mcu.get_steps.__doc__)"
   ]
  },
  {
   "cell_type": "code",
   "execution_count": 26,
   "id": "4d146e6e",
   "metadata": {},
   "outputs": [
    {
     "name": "stdout",
     "output_type": "stream",
     "text": [
      "(10000,)\n"
     ]
    },
    {
     "data": {
      "text/plain": [
       "array([2.1267077 , 0.4946511 , 0.53677063, ..., 2.74393675, 0.66700397,\n",
       "       8.69224062])"
      ]
     },
     "execution_count": 26,
     "metadata": {},
     "output_type": "execute_result"
    }
   ],
   "source": [
    "steps_1_c0 = mcu.get_steps(samples_1[:,0])\n",
    "print(steps_1_c0.shape)\n",
    "steps_1_c0"
   ]
  },
  {
   "cell_type": "code",
   "execution_count": 27,
   "id": "7468b854",
   "metadata": {},
   "outputs": [
    {
     "name": "stdout",
     "output_type": "stream",
     "text": [
      "(10000, 10)\n"
     ]
    },
    {
     "data": {
      "text/plain": [
       "array([[2.12670770e+00, 3.73556011e+00, 8.20738014e-01, ...,\n",
       "        2.41426521e-01, 3.01424980e+00, 2.42912880e+00],\n",
       "       [4.94651099e-01, 1.21623664e+00, 2.31316989e+00, ...,\n",
       "        1.61881459e+00, 1.53302449e-02, 2.57436454e+00],\n",
       "       [5.36770632e-01, 5.40190582e+00, 1.20998106e+00, ...,\n",
       "        2.52570041e+00, 1.98680679e+00, 5.20699380e-01],\n",
       "       ...,\n",
       "       [2.74393675e+00, 2.54066507e+00, 1.22132375e+01, ...,\n",
       "        8.09356710e+00, 1.94280493e+00, 1.08508793e+00],\n",
       "       [6.67003970e-01, 1.26767090e+01, 3.35377876e+00, ...,\n",
       "        9.17315052e-01, 3.53632465e-01, 9.85619497e+00],\n",
       "       [8.69224062e+00, 1.76754423e+01, 5.57389434e+00, ...,\n",
       "        1.37298377e+00, 3.44401006e+00, 1.57308267e-01]])"
      ]
     },
     "execution_count": 27,
     "metadata": {},
     "output_type": "execute_result"
    }
   ],
   "source": [
    "steps_1 = mcu.get_steps(samples_1)\n",
    "print(steps_1.shape)\n",
    "steps_1"
   ]
  },
  {
   "cell_type": "code",
   "execution_count": 28,
   "id": "626558c6",
   "metadata": {},
   "outputs": [],
   "source": [
    "if verbose:\n",
    "    print(mcu.get_steps_list.__doc__)"
   ]
  },
  {
   "cell_type": "code",
   "execution_count": 29,
   "id": "59e1f402",
   "metadata": {},
   "outputs": [
    {
     "name": "stdout",
     "output_type": "stream",
     "text": [
      "(10000,)\n",
      "(11000,)\n"
     ]
    },
    {
     "data": {
      "text/plain": [
       "[array([2.1267077 , 0.4946511 , 0.53677063, ..., 2.74393675, 0.66700397,\n",
       "        8.69224062]),\n",
       " array([ 0.19301657,  2.17714552,  2.15062444, ..., 11.91381335,\n",
       "         7.74729673,  1.65875523])]"
      ]
     },
     "execution_count": 29,
     "metadata": {},
     "output_type": "execute_result"
    }
   ],
   "source": [
    "steps_c0 = mcu.get_steps_list(samples_c0)\n",
    "for sts in steps_c0:\n",
    "    print(sts.shape)\n",
    "steps_c0"
   ]
  },
  {
   "cell_type": "code",
   "execution_count": 30,
   "id": "c3569a4a",
   "metadata": {},
   "outputs": [
    {
     "name": "stdout",
     "output_type": "stream",
     "text": [
      "(10000, 10)\n",
      "(11000, 9)\n"
     ]
    },
    {
     "data": {
      "text/plain": [
       "[array([[2.12670770e+00, 3.73556011e+00, 8.20738014e-01, ...,\n",
       "         2.41426521e-01, 3.01424980e+00, 2.42912880e+00],\n",
       "        [4.94651099e-01, 1.21623664e+00, 2.31316989e+00, ...,\n",
       "         1.61881459e+00, 1.53302449e-02, 2.57436454e+00],\n",
       "        [5.36770632e-01, 5.40190582e+00, 1.20998106e+00, ...,\n",
       "         2.52570041e+00, 1.98680679e+00, 5.20699380e-01],\n",
       "        ...,\n",
       "        [2.74393675e+00, 2.54066507e+00, 1.22132375e+01, ...,\n",
       "         8.09356710e+00, 1.94280493e+00, 1.08508793e+00],\n",
       "        [6.67003970e-01, 1.26767090e+01, 3.35377876e+00, ...,\n",
       "         9.17315052e-01, 3.53632465e-01, 9.85619497e+00],\n",
       "        [8.69224062e+00, 1.76754423e+01, 5.57389434e+00, ...,\n",
       "         1.37298377e+00, 3.44401006e+00, 1.57308267e-01]]),\n",
       " array([[ 0.19301657,  0.65755271,  3.64515681, ...,  0.9505214 ,\n",
       "          0.7831039 ,  2.62220526],\n",
       "        [ 2.17714552,  1.61721641,  2.80507564, ...,  0.05470374,\n",
       "          2.62826887,  0.03962107],\n",
       "        [ 2.15062444,  1.2863014 ,  2.04012836, ...,  3.97595092,\n",
       "          2.01466767,  2.19947929],\n",
       "        ...,\n",
       "        [11.91381335,  1.31231231,  7.65440661, ...,  0.17830644,\n",
       "          1.48081849,  1.11577459],\n",
       "        [ 7.74729673,  6.41532675, 12.97075638, ...,  7.39233312,\n",
       "          7.27469624,  1.34459314],\n",
       "        [ 1.65875523,  3.21718428,  7.81448591, ...,  3.69467082,\n",
       "          1.30253297,  2.43628672]])]"
      ]
     },
     "execution_count": 30,
     "metadata": {},
     "output_type": "execute_result"
    }
   ],
   "source": [
    "steps = mcu.get_steps_list(samples)\n",
    "for sts in steps:\n",
    "    print(sts.shape)\n",
    "steps"
   ]
  },
  {
   "cell_type": "code",
   "execution_count": 31,
   "id": "ad09d12b",
   "metadata": {},
   "outputs": [],
   "source": [
    "if verbose:\n",
    "    print(mcu.get_flat_steps.__doc__)"
   ]
  },
  {
   "cell_type": "code",
   "execution_count": 32,
   "id": "d0aa319c",
   "metadata": {},
   "outputs": [
    {
     "name": "stdout",
     "output_type": "stream",
     "text": [
      "(100000,)\n"
     ]
    },
    {
     "data": {
      "text/plain": [
       "array([2.1267077 , 3.73556011, 0.82073801, ..., 1.37298377, 3.44401006,\n",
       "       0.15730827])"
      ]
     },
     "execution_count": 32,
     "metadata": {},
     "output_type": "execute_result"
    }
   ],
   "source": [
    "flat_steps_1 = mcu.get_flat_steps(samples_1)\n",
    "print(flat_steps_1.shape)\n",
    "flat_steps_1"
   ]
  },
  {
   "cell_type": "code",
   "execution_count": 33,
   "id": "3f605d04",
   "metadata": {},
   "outputs": [],
   "source": [
    "if verbose:\n",
    "    print(mcu.get_flat_steps_list.__doc__)"
   ]
  },
  {
   "cell_type": "code",
   "execution_count": 34,
   "id": "e2474aa5",
   "metadata": {},
   "outputs": [
    {
     "name": "stdout",
     "output_type": "stream",
     "text": [
      "(100000,)\n",
      "(99000,)\n"
     ]
    },
    {
     "data": {
      "text/plain": [
       "[array([2.1267077 , 3.73556011, 0.82073801, ..., 1.37298377, 3.44401006,\n",
       "        0.15730827]),\n",
       " array([0.19301657, 0.65755271, 3.64515681, ..., 3.69467082, 1.30253297,\n",
       "        2.43628672])]"
      ]
     },
     "execution_count": 34,
     "metadata": {},
     "output_type": "execute_result"
    }
   ],
   "source": [
    "flat_steps = mcu.get_flat_steps_list(samples)\n",
    "for sts in flat_steps:\n",
    "    print(sts.shape)\n",
    "flat_steps"
   ]
  },
  {
   "cell_type": "markdown",
   "id": "2c66fbae",
   "metadata": {},
   "source": [
    "### Computing Mean TDE for a List"
   ]
  },
  {
   "cell_type": "code",
   "execution_count": 35,
   "id": "8eb1a85f",
   "metadata": {},
   "outputs": [],
   "source": [
    "if verbose:\n",
    "    print(mcu.mean_tde_list.__doc__)"
   ]
  },
  {
   "cell_type": "code",
   "execution_count": 36,
   "id": "a3cd43fd",
   "metadata": {},
   "outputs": [
    {
     "data": {
      "text/plain": [
       "array([4.86725327, 4.85821491])"
      ]
     },
     "execution_count": 36,
     "metadata": {},
     "output_type": "execute_result"
    }
   ],
   "source": [
    "mean_tde = mcu.mean_tde_list(tde)\n",
    "mean_tde"
   ]
  },
  {
   "cell_type": "markdown",
   "id": "9032e1e4",
   "metadata": {},
   "source": [
    "### Computing MSS"
   ]
  },
  {
   "cell_type": "code",
   "execution_count": 37,
   "id": "362d8db5",
   "metadata": {},
   "outputs": [],
   "source": [
    "if verbose:\n",
    "    print(mcu.mss.__doc__)"
   ]
  },
  {
   "cell_type": "code",
   "execution_count": 38,
   "id": "bb860c24",
   "metadata": {},
   "outputs": [
    {
     "data": {
      "text/plain": [
       "4.422898895410969"
      ]
     },
     "execution_count": 38,
     "metadata": {},
     "output_type": "execute_result"
    }
   ],
   "source": [
    "mss_1_c0 = mcu.mss(samples_1[:,0])\n",
    "mss_1_c0"
   ]
  },
  {
   "cell_type": "code",
   "execution_count": 39,
   "id": "1976b73e",
   "metadata": {},
   "outputs": [
    {
     "data": {
      "text/plain": [
       "4.42376487747069"
      ]
     },
     "execution_count": 39,
     "metadata": {},
     "output_type": "execute_result"
    }
   ],
   "source": [
    "mss_1 = mcu.mss(samples_1)\n",
    "mss_1"
   ]
  },
  {
   "cell_type": "code",
   "execution_count": 40,
   "id": "19511b8a",
   "metadata": {},
   "outputs": [],
   "source": [
    "if verbose:\n",
    "    print(mcu.mss_list.__doc__)"
   ]
  },
  {
   "cell_type": "code",
   "execution_count": 41,
   "id": "3011a4c8",
   "metadata": {},
   "outputs": [
    {
     "data": {
      "text/plain": [
       "array([4.4228989, 4.5133014])"
      ]
     },
     "execution_count": 41,
     "metadata": {},
     "output_type": "execute_result"
    }
   ],
   "source": [
    "mss_c0 = mcu.mss_list(samples_c0)\n",
    "mss_c0"
   ]
  },
  {
   "cell_type": "code",
   "execution_count": 42,
   "id": "dc692282",
   "metadata": {},
   "outputs": [
    {
     "data": {
      "text/plain": [
       "array([4.42376488, 4.49770515])"
      ]
     },
     "execution_count": 42,
     "metadata": {},
     "output_type": "execute_result"
    }
   ],
   "source": [
    "mss = mcu.mss_list(samples)\n",
    "mss"
   ]
  },
  {
   "cell_type": "markdown",
   "id": "2c9587bb",
   "metadata": {},
   "source": [
    "### (mean) IAT"
   ]
  },
  {
   "cell_type": "code",
   "execution_count": 43,
   "id": "e9a583ce",
   "metadata": {},
   "outputs": [],
   "source": [
    "maxl = 1234\n",
    "maxls = [maxl, 2*maxl]"
   ]
  },
  {
   "cell_type": "code",
   "execution_count": 44,
   "id": "6c0bd256",
   "metadata": {},
   "outputs": [],
   "source": [
    "if verbose:\n",
    "    print(mcu.iat.__doc__)"
   ]
  },
  {
   "cell_type": "code",
   "execution_count": 45,
   "id": "8e042aaf",
   "metadata": {},
   "outputs": [
    {
     "data": {
      "text/plain": [
       "32.97127687458932"
      ]
     },
     "execution_count": 45,
     "metadata": {},
     "output_type": "execute_result"
    }
   ],
   "source": [
    "iat_1_c0_d0 = mcu.iat(samples_1[:,0,0], maxl)\n",
    "iat_1_c0_d0"
   ]
  },
  {
   "cell_type": "code",
   "execution_count": 46,
   "id": "27f60088",
   "metadata": {},
   "outputs": [],
   "source": [
    "if verbose:\n",
    "    print(mcu.iat_list.__doc__)"
   ]
  },
  {
   "cell_type": "code",
   "execution_count": 47,
   "id": "cedf2aee",
   "metadata": {
    "scrolled": true
   },
   "outputs": [
    {
     "data": {
      "text/plain": [
       "array([32.97127687, 38.51062631])"
      ]
     },
     "execution_count": 47,
     "metadata": {},
     "output_type": "execute_result"
    }
   ],
   "source": [
    "iat_c0_d0 = mcu.iat_list([sams[:,0] for sams in samples_c0], maxls)\n",
    "iat_c0_d0"
   ]
  },
  {
   "cell_type": "code",
   "execution_count": 48,
   "id": "027739c5",
   "metadata": {},
   "outputs": [],
   "source": [
    "if verbose:\n",
    "    print(mcu.iat_multi_chain.__doc__)"
   ]
  },
  {
   "cell_type": "code",
   "execution_count": 49,
   "id": "b9eed26e",
   "metadata": {},
   "outputs": [
    {
     "data": {
      "text/plain": [
       "33.07339466848005"
      ]
     },
     "execution_count": 49,
     "metadata": {},
     "output_type": "execute_result"
    }
   ],
   "source": [
    "iat_1_d0 = mcu.iat_multi_chain(samples_1[:,:,0], maxl)\n",
    "iat_1_d0"
   ]
  },
  {
   "cell_type": "code",
   "execution_count": 50,
   "id": "e6d3a8c5",
   "metadata": {},
   "outputs": [],
   "source": [
    "if verbose:\n",
    "    print(mcu.iat_multi_chain_list.__doc__)"
   ]
  },
  {
   "cell_type": "code",
   "execution_count": 51,
   "id": "168058e2",
   "metadata": {},
   "outputs": [
    {
     "data": {
      "text/plain": [
       "array([33.07339467, 30.90128557])"
      ]
     },
     "execution_count": 51,
     "metadata": {},
     "output_type": "execute_result"
    }
   ],
   "source": [
    "iat_d0 = mcu.iat_multi_chain_list([sams[:,:,0] for sams in samples], maxls)\n",
    "iat_d0"
   ]
  },
  {
   "cell_type": "code",
   "execution_count": 52,
   "id": "7a893e76",
   "metadata": {},
   "outputs": [],
   "source": [
    "if verbose:\n",
    "    print(mcu.mean_iat.__doc__)"
   ]
  },
  {
   "cell_type": "code",
   "execution_count": 53,
   "id": "99e25d9e",
   "metadata": {},
   "outputs": [
    {
     "data": {
      "text/plain": [
       "33.68865291186715"
      ]
     },
     "execution_count": 53,
     "metadata": {},
     "output_type": "execute_result"
    }
   ],
   "source": [
    "mean_iat_1_c0 = mcu.mean_iat(samples_1[:,0], maxl)\n",
    "mean_iat_1_c0"
   ]
  },
  {
   "cell_type": "code",
   "execution_count": 54,
   "id": "688e7d23",
   "metadata": {},
   "outputs": [],
   "source": [
    "if verbose:\n",
    "    print(mcu.mean_iat_list.__doc__)"
   ]
  },
  {
   "cell_type": "code",
   "execution_count": 55,
   "id": "2ba41fb9",
   "metadata": {},
   "outputs": [
    {
     "data": {
      "text/plain": [
       "array([33.68865291, 35.00909397])"
      ]
     },
     "execution_count": 55,
     "metadata": {},
     "output_type": "execute_result"
    }
   ],
   "source": [
    "mean_iat_c0 = mcu.mean_iat_list(samples_c0, maxl)\n",
    "mean_iat_c0"
   ]
  },
  {
   "cell_type": "code",
   "execution_count": 56,
   "id": "0a4d7aee",
   "metadata": {},
   "outputs": [],
   "source": [
    "if verbose:\n",
    "    print(mcu.mean_iat_multi_chain.__doc__)"
   ]
  },
  {
   "cell_type": "code",
   "execution_count": 57,
   "id": "b0f3bed9",
   "metadata": {},
   "outputs": [
    {
     "data": {
      "text/plain": [
       "34.41752780559317"
      ]
     },
     "execution_count": 57,
     "metadata": {},
     "output_type": "execute_result"
    }
   ],
   "source": [
    "mean_iat_1 = mcu.mean_iat_multi_chain(samples_1, maxl)\n",
    "mean_iat_1"
   ]
  },
  {
   "cell_type": "code",
   "execution_count": 58,
   "id": "48e52f6c",
   "metadata": {},
   "outputs": [],
   "source": [
    "if verbose:\n",
    "    print(mcu.mean_iat_multi_chain_list.__doc__)"
   ]
  },
  {
   "cell_type": "code",
   "execution_count": 59,
   "id": "55899532",
   "metadata": {
    "scrolled": true
   },
   "outputs": [
    {
     "data": {
      "text/plain": [
       "array([34.41752781, 34.22199155])"
      ]
     },
     "execution_count": 59,
     "metadata": {},
     "output_type": "execute_result"
    }
   ],
   "source": [
    "mean_iat = mcu.mean_iat_multi_chain_list(samples, maxls)\n",
    "mean_iat"
   ]
  },
  {
   "cell_type": "code",
   "execution_count": null,
   "id": "cb95fb24",
   "metadata": {},
   "outputs": [],
   "source": []
  }
 ],
 "metadata": {
  "kernelspec": {
   "display_name": "Python 3 (ipykernel)",
   "language": "python",
   "name": "python3"
  },
  "language_info": {
   "codemirror_mode": {
    "name": "ipython",
    "version": 3
   },
   "file_extension": ".py",
   "mimetype": "text/x-python",
   "name": "python",
   "nbconvert_exporter": "python",
   "pygments_lexer": "ipython3",
   "version": "3.11.6"
  }
 },
 "nbformat": 4,
 "nbformat_minor": 5
}
